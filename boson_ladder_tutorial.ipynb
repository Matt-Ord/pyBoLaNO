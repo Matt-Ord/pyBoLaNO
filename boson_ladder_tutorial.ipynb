{
 "cells": [
  {
   "cell_type": "markdown",
   "metadata": {},
   "source": [
    "### **Welcome abroad!**\n",
    "`boson_ladder` is _fully_ based on `SymPy`. However, there is no need to specifically import anything from `SymPy` to use the features of this package, except if you want to use `sympy.Symbol` as variables."
   ]
  },
  {
   "cell_type": "code",
   "execution_count": 1,
   "metadata": {},
   "outputs": [],
   "source": [
    "import boson_ladder as bl\n",
    "from sympy import *"
   ]
  },
  {
   "cell_type": "markdown",
   "metadata": {},
   "source": [
    "---"
   ]
  },
  {
   "cell_type": "markdown",
   "metadata": {},
   "source": [
    "### **The bosonic ladder operator objects**\n",
    "\n",
    "In `SymPy`, the ladder operators are available as `sympy.physics.secondquant.AnnihilateBoson` and `sympy.physics.secondquant.CreateBoson`. In this package, the recommended way to get these objects is by calling [`boson_ladder.ops`](https://github.com/hendry24/boson_ladder/blob/main/boson_ladder/utils/operators.py?plain=1#L19):"
   ]
  },
  {
   "cell_type": "code",
   "execution_count": 19,
   "metadata": {},
   "outputs": [
    {
     "data": {
      "text/latex": [
       "$\\displaystyle b_{1}$"
      ],
      "text/plain": [
       "AnnihilateBoson(1)"
      ]
     },
     "execution_count": 19,
     "metadata": {},
     "output_type": "execute_result"
    }
   ],
   "source": [
    "b_1, bd_1 = bl.ops(1)\n",
    "b_2, bd_2 = bl.ops(2)\n",
    "\n",
    "b_1"
   ]
  },
  {
   "cell_type": "code",
   "execution_count": 3,
   "metadata": {},
   "outputs": [
    {
     "data": {
      "text/latex": [
       "$\\displaystyle {b^\\dagger_{1}}$"
      ],
      "text/plain": [
       "CreateBoson(1)"
      ]
     },
     "execution_count": 3,
     "metadata": {},
     "output_type": "execute_result"
    }
   ],
   "source": [
    "bd_1"
   ]
  },
  {
   "cell_type": "markdown",
   "metadata": {},
   "source": [
    "There are several advantages of calling this function over calling the `SymPy` constructors: \n",
    "-   You do not need to manually import `sympy.physics.secondquant` which requires a separate import. \n",
    "-   You also only need to call one thing instead of two. \n",
    "-   As shown above, you can input any nonzero integer as a subscript without the constructor raising an error when printing the latex output (this may just be a bug):"
   ]
  },
  {
   "cell_type": "code",
   "execution_count": 4,
   "metadata": {},
   "outputs": [
    {
     "name": "stdout",
     "output_type": "stream",
     "text": [
      "An exception is raised!\n"
     ]
    }
   ],
   "source": [
    "from sympy.physics.secondquant import AnnihilateBoson\n",
    "try:\n",
    "    latex(AnnihilateBoson(1))\n",
    "except:\n",
    "    print(\"An exception is raised!\")"
   ]
  },
  {
   "cell_type": "markdown",
   "metadata": {},
   "source": [
    "If you are working with single-mode systems, you can remove the subscript by specifying no input:"
   ]
  },
  {
   "cell_type": "code",
   "execution_count": 5,
   "metadata": {},
   "outputs": [
    {
     "data": {
      "text/latex": [
       "$\\displaystyle b_{}$"
      ],
      "text/plain": [
       "AnnihilateBoson()"
      ]
     },
     "execution_count": 5,
     "metadata": {},
     "output_type": "execute_result"
    }
   ],
   "source": [
    "b, bd = bl.ops()\n",
    "b"
   ]
  },
  {
   "cell_type": "code",
   "execution_count": 6,
   "metadata": {},
   "outputs": [
    {
     "data": {
      "text/latex": [
       "$\\displaystyle {b^\\dagger_{}}$"
      ],
      "text/plain": [
       "CreateBoson()"
      ]
     },
     "execution_count": 6,
     "metadata": {},
     "output_type": "execute_result"
    }
   ],
   "source": [
    "bd"
   ]
  },
  {
   "cell_type": "markdown",
   "metadata": {},
   "source": [
    "which cannot be done in the current version of `SymPy`:"
   ]
  },
  {
   "cell_type": "code",
   "execution_count": 7,
   "metadata": {},
   "outputs": [
    {
     "name": "stdout",
     "output_type": "stream",
     "text": [
      "Whoa, there!\n"
     ]
    }
   ],
   "source": [
    "from sympy.physics.secondquant import AnnihilateBoson\n",
    "try:\n",
    "    AnnihilateBoson()\n",
    "except:\n",
    "    print(\"Whoa, there!\")"
   ]
  },
  {
   "cell_type": "markdown",
   "metadata": {},
   "source": [
    "Other than the construction process, the outputs of `ops` are really the `SymPy` objects:"
   ]
  },
  {
   "cell_type": "code",
   "execution_count": 8,
   "metadata": {},
   "outputs": [
    {
     "data": {
      "text/plain": [
       "True"
      ]
     },
     "execution_count": 8,
     "metadata": {},
     "output_type": "execute_result"
    }
   ],
   "source": [
    "isinstance(b, AnnihilateBoson)"
   ]
  },
  {
   "cell_type": "markdown",
   "metadata": {},
   "source": [
    "---"
   ]
  },
  {
   "cell_type": "markdown",
   "metadata": {},
   "source": [
    "### **Normal ordering**\n",
    "\n",
    "Normal ordering means using the commutation relations to obtain an expression where all creation operators $b_j^\\dagger$ are positioned to the left of all annihilation operators $b_j$. Other than making the expressions nicer to see, normal-ordered operators behave nicer in quantum mechanics (see the [optical equivalence theorem](https://en.wikipedia.org/wiki/Optical_equivalence_theorem)). \n",
    "\n",
    "The function [`normal_ordering`](https://github.com/hendry24/boson_ladder/blob/main/boson_ladder/core/do_commutator.py#L170) does normal ordering like how you probably would: it looks for a creation operator to the right of an annihilation operator, then apply the commutation relations to swap their places. This is done recursively until we have a normal-ordered expression."
   ]
  },
  {
   "cell_type": "code",
   "execution_count": null,
   "metadata": {},
   "outputs": [
    {
     "data": {
      "text/latex": [
       "$\\displaystyle 2 {b^\\dagger_{}} + {b^\\dagger_{}}^{2} b_{}$"
      ],
      "text/plain": [
       "2*CreateBoson() + CreateBoson()**2*AnnihilateBoson()"
      ]
     },
     "execution_count": 9,
     "metadata": {},
     "output_type": "execute_result"
    }
   ],
   "source": [
    "bl.normal_ordering(b_1 * bd_1**2)"
   ]
  },
  {
   "cell_type": "markdown",
   "metadata": {},
   "source": [
    "Many-mode input:"
   ]
  },
  {
   "cell_type": "code",
   "execution_count": 20,
   "metadata": {},
   "outputs": [
    {
     "data": {
      "text/latex": [
       "$\\displaystyle 6 b_{2} b_{1}^{3} + 6 {b^\\dagger_{2}} b_{2}^{2} b_{1}^{3} + {b^\\dagger_{2}}^{2} b_{2}^{3} b_{1}^{3}$"
      ],
      "text/plain": [
       "6*AnnihilateBoson(2)*AnnihilateBoson(1)**3 + 6*CreateBoson(2)*AnnihilateBoson(2)**2*AnnihilateBoson(1)**3 + CreateBoson(2)**2*AnnihilateBoson(2)**3*AnnihilateBoson(1)**3"
      ]
     },
     "execution_count": 20,
     "metadata": {},
     "output_type": "execute_result"
    }
   ],
   "source": [
    "bl.normal_ordering(b_2** 3 * b_1 * bd_2**2 * b_1**2)"
   ]
  },
  {
   "cell_type": "markdown",
   "metadata": {},
   "source": [
    "Polynomial input:"
   ]
  },
  {
   "cell_type": "code",
   "execution_count": 21,
   "metadata": {},
   "outputs": [
    {
     "data": {
      "text/latex": [
       "$\\displaystyle b_{2} + 5 {b^\\dagger_{1}}^{5} b_{2}^{2} b_{1} + {b^\\dagger_{2}}^{4} b_{1}^{2}$"
      ],
      "text/plain": [
       "AnnihilateBoson(2) + 5*CreateBoson(1)**5*AnnihilateBoson(2)**2*AnnihilateBoson(1) + CreateBoson(2)**4*AnnihilateBoson(1)**2"
      ]
     },
     "execution_count": 21,
     "metadata": {},
     "output_type": "execute_result"
    }
   ],
   "source": [
    "bl.normal_ordering(b_1**2 * bd_2**4 \\\n",
    "                    + 5 * b_2**2 * bd_1**5 * b_1 \\\n",
    "                    + b_2 )"
   ]
  },
  {
   "cell_type": "markdown",
   "metadata": {},
   "source": [
    "Input with symbols:"
   ]
  },
  {
   "cell_type": "code",
   "execution_count": 23,
   "metadata": {},
   "outputs": [
    {
     "data": {
      "text/latex": [
       "$\\displaystyle 2 x^{3} {b^\\dagger_{1}} + x^{3} {b^\\dagger_{1}}^{2} b_{1}$"
      ],
      "text/plain": [
       "2*x**3*CreateBoson(1) + x**3*CreateBoson(1)**2*AnnihilateBoson(1)"
      ]
     },
     "execution_count": 23,
     "metadata": {},
     "output_type": "execute_result"
    }
   ],
   "source": [
    "x = Symbol(\"x\")\n",
    "\n",
    "bl.normal_ordering(x * b_1 * x**2 * bd_1**2)"
   ]
  },
  {
   "cell_type": "markdown",
   "metadata": {},
   "source": [
    "---"
   ]
  },
  {
   "cell_type": "markdown",
   "metadata": {},
   "source": [
    "### **Evaluating commutators**\n",
    "\n",
    "**(CAUTION)** Non-`sympy.Number` exponents are treated as unbreakable into smaller constituents. As such, commutators like $\\left[\\hat{b}_k^{\\dagger p},\\hat{b} \\right]$, where $p$ is a `sympy.Symbol`, do not work with this package.\n",
    "\n",
    "Commutators are evaluated with the function [`do_commutator`](https://github.com/hendry24/boson_ladder/blob/main/boson_ladder/core/do_commutator.py#L170). It works by simplifying the input commutator using the identities:\n",
    "\\begin{align}\n",
    "[\\hat{A}\\hat{B},\\hat{C}] &= \\hat{A}[\\hat{B},\\hat{C}] + [\\hat{A},\\hat{C}]\\hat{B}\n",
    "\\notag\n",
    "\\\\\n",
    "[\\hat{A},\\hat{B}\\hat{C}] &= [\\hat{A},\\hat{B}]\\hat{C} + \\hat{B}[\\hat{A},\\hat{C}]\n",
    "\\notag\n",
    "\\end{align}\n",
    "(hence the caution above) until `SymPy` can automatically evaluate the commutator. Any commutator of any two polynomials in the ladder operators can be evaluated this way, though the `for`-loops may make it costly for long polynomials. \n",
    "\n",
    ">   Use `do_commutator` where you would use `sympy.physics.secondquant.Commutator`.\n",
    "\n",
    "Here is a commutator that SymPy does not automatically evaluate:"
   ]
  },
  {
   "cell_type": "code",
   "execution_count": 11,
   "metadata": {},
   "outputs": [
    {
     "data": {
      "text/latex": [
       "$\\displaystyle \\left[{b^\\dagger_{}} b_{},b_{}\\right]$"
      ],
      "text/plain": [
       "Commutator(CreateBoson()*AnnihilateBoson(),b())"
      ]
     },
     "execution_count": 11,
     "metadata": {},
     "output_type": "execute_result"
    }
   ],
   "source": [
    "from sympy.physics.secondquant import Commutator\n",
    "\n",
    "A = bd*b\n",
    "B = b\n",
    "\n",
    "sympy_comm = Commutator(A, B)\n",
    "sympy_comm"
   ]
  },
  {
   "cell_type": "code",
   "execution_count": 12,
   "metadata": {},
   "outputs": [
    {
     "data": {
      "text/latex": [
       "$\\displaystyle - b_{} {b^\\dagger_{}} b_{} + {b^\\dagger_{}} b_{}^{2}$"
      ],
      "text/plain": [
       "-AnnihilateBoson()*CreateBoson()*AnnihilateBoson() + CreateBoson()*AnnihilateBoson()**2"
      ]
     },
     "execution_count": 12,
     "metadata": {},
     "output_type": "execute_result"
    }
   ],
   "source": [
    "sympy_comm.simplify()"
   ]
  },
  {
   "cell_type": "code",
   "execution_count": 13,
   "metadata": {},
   "outputs": [
    {
     "data": {
      "text/latex": [
       "$\\displaystyle - b_{} {b^\\dagger_{}} b_{} + {b^\\dagger_{}} b_{}^{2}$"
      ],
      "text/plain": [
       "-AnnihilateBoson()*CreateBoson()*AnnihilateBoson() + CreateBoson()*AnnihilateBoson()**2"
      ]
     },
     "execution_count": 13,
     "metadata": {},
     "output_type": "execute_result"
    }
   ],
   "source": [
    "sympy_comm.doit()"
   ]
  },
  {
   "cell_type": "markdown",
   "metadata": {},
   "source": [
    "`do_commutator` helps `SymPy` evaluate the commutator:"
   ]
  },
  {
   "cell_type": "code",
   "execution_count": 14,
   "metadata": {},
   "outputs": [
    {
     "data": {
      "text/latex": [
       "$\\displaystyle - b_{}$"
      ],
      "text/plain": [
       "-AnnihilateBoson()"
      ]
     },
     "execution_count": 14,
     "metadata": {},
     "output_type": "execute_result"
    }
   ],
   "source": [
    "bl.do_commutator(A, B)"
   ]
  },
  {
   "cell_type": "markdown",
   "metadata": {},
   "source": [
    "Let us try a more complex commutator:"
   ]
  },
  {
   "cell_type": "code",
   "execution_count": 15,
   "metadata": {},
   "outputs": [
    {
     "data": {
      "text/latex": [
       "$\\displaystyle - 60 b_{}^{5} - 60 {b^\\dagger_{}} b_{}^{6} - 7 {b^\\dagger_{}}^{2} b_{}^{7}$"
      ],
      "text/plain": [
       "-60*AnnihilateBoson()**5 - 60*CreateBoson()*AnnihilateBoson()**6 - 7*CreateBoson()**2*AnnihilateBoson()**7"
      ]
     },
     "execution_count": 15,
     "metadata": {},
     "output_type": "execute_result"
    }
   ],
   "source": [
    "A = bd**2 * b**3\n",
    "B = b**5 * bd\n",
    "\n",
    "bl.do_commutator(A, B)"
   ]
  },
  {
   "cell_type": "markdown",
   "metadata": {},
   "source": [
    "By default, the input is normal ordered. You can disable this by setting the parameter `normal_order = False`."
   ]
  },
  {
   "cell_type": "code",
   "execution_count": 16,
   "metadata": {},
   "outputs": [
    {
     "data": {
      "text/latex": [
       "$\\displaystyle - 2 b_{} {b^\\dagger_{}} b_{}^{6} {b^\\dagger_{}} - 2 b_{}^{2} {b^\\dagger_{}} b_{}^{5} {b^\\dagger_{}} - 2 b_{}^{3} {b^\\dagger_{}} b_{}^{4} {b^\\dagger_{}} - 2 b_{}^{4} {b^\\dagger_{}} b_{}^{3} {b^\\dagger_{}} + 3 b_{}^{5} {b^\\dagger_{}}^{2} b_{}^{2} - 2 {b^\\dagger_{}} b_{}^{7} {b^\\dagger_{}}$"
      ],
      "text/plain": [
       "-2*AnnihilateBoson()*CreateBoson()*AnnihilateBoson()**6*CreateBoson() - 2*AnnihilateBoson()**2*CreateBoson()*AnnihilateBoson()**5*CreateBoson() - 2*AnnihilateBoson()**3*CreateBoson()*AnnihilateBoson()**4*CreateBoson() - 2*AnnihilateBoson()**4*CreateBoson()*AnnihilateBoson()**3*CreateBoson() + 3*AnnihilateBoson()**5*CreateBoson()**2*AnnihilateBoson()**2 - 2*CreateBoson()*AnnihilateBoson()**7*CreateBoson()"
      ]
     },
     "execution_count": 16,
     "metadata": {},
     "output_type": "execute_result"
    }
   ],
   "source": [
    "bl.do_commutator(A, B, normal_order=False)"
   ]
  },
  {
   "cell_type": "markdown",
   "metadata": {},
   "source": [
    "Many-mode inputs:"
   ]
  },
  {
   "cell_type": "code",
   "execution_count": null,
   "metadata": {},
   "outputs": [
    {
     "data": {
      "text/latex": [
       "$\\displaystyle -1 - {b^\\dagger_{1}} b_{1} - {b^\\dagger_{2}} b_{2}$"
      ],
      "text/plain": [
       "-1 - CreateBoson(1)*AnnihilateBoson(1) - CreateBoson(2)*AnnihilateBoson(2)"
      ]
     },
     "execution_count": 17,
     "metadata": {},
     "output_type": "execute_result"
    }
   ],
   "source": [
    "A = bd_1*bd_2\n",
    "B = b_1*b_2\n",
    "\n",
    "bl.do_commutator(A, B)"
   ]
  },
  {
   "cell_type": "markdown",
   "metadata": {},
   "source": [
    "Polynomial inputs:"
   ]
  },
  {
   "cell_type": "code",
   "execution_count": 18,
   "metadata": {},
   "outputs": [
    {
     "data": {
      "text/latex": [
       "$\\displaystyle 8 b_{2}^{2} + 3 {b^\\dagger_{1}}^{2}$"
      ],
      "text/plain": [
       "8*AnnihilateBoson(2)**2 + 3*CreateBoson(1)**2"
      ]
     },
     "execution_count": 18,
     "metadata": {},
     "output_type": "execute_result"
    }
   ],
   "source": [
    "A = b_1 + 2*b_2**2\n",
    "B = bd_1**2 * bd_1 + 2*bd_2*b_2\n",
    "\n",
    "bl.do_commutator(A, B)"
   ]
  },
  {
   "cell_type": "markdown",
   "metadata": {},
   "source": [
    "Inputs with symbols:"
   ]
  },
  {
   "cell_type": "code",
   "execution_count": 26,
   "metadata": {},
   "outputs": [
    {
     "data": {
      "text/latex": [
       "$\\displaystyle x^{1.5} b_{}$"
      ],
      "text/plain": [
       "x**1.5*AnnihilateBoson()"
      ]
     },
     "execution_count": 26,
     "metadata": {},
     "output_type": "execute_result"
    }
   ],
   "source": [
    "A = x*b_1 \n",
    "B = x**(0.5)*bd_1*b\n",
    "\n",
    "bl.do_commutator(A, B)"
   ]
  },
  {
   "cell_type": "markdown",
   "metadata": {},
   "source": [
    "---"
   ]
  },
  {
   "cell_type": "markdown",
   "metadata": {},
   "source": [
    "### **Expectation value evolution in the Lindblad Master Equation Framework**"
   ]
  },
  {
   "cell_type": "markdown",
   "metadata": {},
   "source": [
    "The master equation in the Lindblad form, or the Lindblad master equation (LME) is arguably the simplest extension of the Schr&ouml;dinger equation to open quantum systems (i.e. systems whose interaction with their environments are practically intractable). Instead of the wave function vector $\\left|\\psi\\right\\rangle$, we describe the system using density matrices $\\rho$, which evolves according to\n",
    "\\begin{align}\n",
    "    \\frac{\\mathrm{d}\\rho}{\\mathrm{d}t} = -i\\left[\\hat{H},\\rho\\right] + \\sum_j \\gamma_j \\mathcal{D}\\left(\\hat{O}_j\\right)[\\rho]\n",
    "\\notag\n",
    "\\end{align}\n",
    "where the term with the Hamiltonian $\\hat{H}$ describes the closed system dynamics, and the rest describe the open system dynamics. Here, $\\gamma_j$ are nonnegative scalars, while \n",
    "\\begin{align}\n",
    "    \\mathcal{D}\\left(\\hat{O}_j\\right)\\left[\\rho\\right] = \\hat{O}_j\\rho\\hat{O}_j^\\dagger - \\frac{1}{2}\\left\\{\\hat{O}_j^\\dagger\\hat{O}_j,\\rho\\right\\} \\notag\n",
    "\\end{align}\n",
    "is the Liouvillian superator in the Lindblad form, or more concisely, the Lindblad dissipator. The operators $\\hat{O}_j$ describing the dissipator depends on the process (e.g. $\\hat{b}$ for a one-quantum dissipation)&mdash; the scalars $\\gamma_j$ can be interpreted as the rate of the processes.\n",
    "\n",
    "It is usually interesting to compute the evolution of some expectation value. For a system described by the density matrix $\\rho$, the expectation value of some quantity represented by the operator $\\hat{A}$ is given by $\\left\\langle A \\right\\rangle=\\mathrm{tr}\\left(\\rho\\hat{A}\\right)$. The evolution of $\\left\\langle A \\right\\rangle$ is given by\n",
    "\n",
    "\\begin{align}\n",
    "\\frac{\\mathrm{d}\\left\\langle A\\right\\rangle}{\\mathrm{d}t} &= \\mathrm{tr}\\left(\\frac{\\mathrm{d}\\rho}{\\mathrm{d}t}\\hat{A}\\right) \\notag\n",
    "\\\\\n",
    "&= -i\\ \\mathrm{tr}\\left(\\left[\\hat{H},\\rho\\right]\\hat{A}\\right) + \\sum_j\\gamma_j\\mathrm{tr}\\left( \\mathcal{D}\\left(\\hat{O}_j\\right)\\left[\\rho\\right]\\hat{A}\\right) \\notag\n",
    "\\end{align}\n",
    "\n",
    "We call the first term on the RHS the \"Hamiltonian trace\" and the rest the \"dissipator traces\". The most general form of $\\hat{H}$ and $\\hat{O}_j$ we consider is a polynomial in the ladder operators. In this case, we have the following identities (which can be straightforwardly derived):\n",
    "\n",
    "\\begin{align}\n",
    "-i\\ \\mathrm{tr}\\left(\\left[\\hat{H},\\rho\\right]\\hat{A}\\right) &= -i\\left\\langle\\left[\\hat{A},\\hat{H}\\right]\\right\\rangle \\notag\n",
    "\\\\ \\notag\n",
    "\\\\\n",
    "\\mathrm{tr}\\left( \\mathcal{D}\\left(\\sum_k\\hat{\\mathcal{O}}_k\\right)\\left[\\rho\\right]\\hat{A}\\right) &= \\sum_k \\left\\langle \\hat{\\mathcal{O}}_k^\\dagger \\left[\\hat{A}, \\hat{\\mathcal{O}}_k\\right]\\right\\rangle +\\left\\langle \\left[\\hat{\\mathcal{O}}_k^\\dagger, \\hat{A}\\right] \\hat{\\mathcal{O}}_k \\right\\rangle\\notag\n",
    "\\\\\n",
    "&\\quad +\\sum_{l>k}\\left\\langle \\hat{\\mathcal{O}}_k^\\dagger \\left[\\hat{A},\\hat{\\mathcal{O}}_l\\right]\\right\\rangle + \\left\\langle \\left[ \\hat{\\mathcal{O}}_k^\\dagger,\\hat{A}\\right]\\hat{\\mathcal{O}}_l\\right\\rangle + \\left\\langle \\hat{\\mathcal{O}}_l^\\dagger \\left[\\hat{A},\\hat{\\mathcal{O}}_k\\right]\\right\\rangle + \\left\\langle \\left[ \\hat{\\mathcal{O}}_l^\\dagger,\\hat{A}\\right]\\hat{\\mathcal{O}}_k\\right\\rangle\n",
    "\\notag\n",
    "\\end{align}\n",
    "where we have absorbed the multiplying scalars in the polynomial into $\\hat{\\mathcal{O}}_k$. These identities make the basis for the evaluation of the Hamiltonian trace by [`Hamiltonian_trace`](https://github.com/hendry24/boson_ladder/blob/main/boson_ladder/core/Lindblad_ME.py#L21) and the dissipator traces by [`dissipator_trace`](https://github.com/hendry24/boson_ladder/blob/main/boson_ladder/core/Lindblad_ME.py#L64)&mdash;check them out! \n",
    "\n",
    "The two functions make up the main function in this section: [`LME_expval_evo`](https://github.com/hendry24/boson_ladder/blob/main/boson_ladder/core/Lindblad_ME.py#L123). You only need to input the Hamiltonian `H`, the list of dissipators and their process rates `D`, and the operator `A` corresponding to the quantity whose expectation value evolution is of your interest&mdash;the function will do the rest. To be more specific, `D` has the syntax `D = [[gamma_0, O_0], [gamma_0, O_1], [gamma_2, O_2], ...]`."
   ]
  },
  {
   "cell_type": "markdown",
   "metadata": {},
   "source": [
    "**Example 1: One-dimensional quantum simple harmonic oscillator**\n",
    "\n",
    "Let us start simple with the simple harmonic oscillator. We have $\\hat{H}=\\hbar\\omega_0\\hat{b}^\\dagger\\hat{b}$ and no dissipators. The evolution of the expected phase point $\\left\\langle \\hat{b} \\right\\rangle = \\mathrm{tr}\\left(\\rho \\hat{b}\\right)$ is given by"
   ]
  },
  {
   "cell_type": "code",
   "execution_count": 34,
   "metadata": {},
   "outputs": [
    {
     "data": {
      "text/latex": [
       "$\\displaystyle \\frac{d}{d t} {\\left\\langle b_{} \\right\\rangle} = - i \\hbar \\omega_{0} {\\left\\langle b_{} \\right\\rangle}$"
      ],
      "text/plain": [
       "Eq(Derivative({\\left\\langle b_{} \\right\\rangle}, t), -I*hbar*omega_0*{\\left\\langle b_{} \\right\\rangle})"
      ]
     },
     "execution_count": 34,
     "metadata": {},
     "output_type": "execute_result"
    }
   ],
   "source": [
    "hbar, omega_0 = symbols(r\"hbar omega_0\")\n",
    "b, bd = bl.ops()\n",
    "\n",
    "H = hbar*omega_0*bd*b\n",
    "D = []\n",
    "A = b\n",
    "\n",
    "bl.LME_expval_evo(H, D, A)"
   ]
  },
  {
   "cell_type": "markdown",
   "metadata": {},
   "source": [
    "What about its energy, $\\left\\langle \\hat{b}^\\dagger \\hat{b} \\right\\rangle$? We can just set $\\hat{A}=\\hat{b}^\\dagger \\hat{b}$. We have"
   ]
  },
  {
   "cell_type": "code",
   "execution_count": 35,
   "metadata": {},
   "outputs": [
    {
     "data": {
      "text/latex": [
       "$\\displaystyle \\frac{d}{d t} {\\left\\langle {b^\\dagger_{}} b_{} \\right\\rangle} = 0$"
      ],
      "text/plain": [
       "Eq(Derivative({\\left\\langle {b^\\dagger_{}} b_{} \\right\\rangle}, t), 0)"
      ]
     },
     "execution_count": 35,
     "metadata": {},
     "output_type": "execute_result"
    }
   ],
   "source": [
    "A = bd*b\n",
    "\n",
    "bl.LME_expval_evo(H, D, A)"
   ]
  },
  {
   "cell_type": "markdown",
   "metadata": {},
   "source": [
    "**Example 2: One-dimensional harmonically-driven Kerr oscillator**"
   ]
  }
 ],
 "metadata": {
  "kernelspec": {
   "display_name": "pyvenv",
   "language": "python",
   "name": "python3"
  },
  "language_info": {
   "codemirror_mode": {
    "name": "ipython",
    "version": 3
   },
   "file_extension": ".py",
   "mimetype": "text/x-python",
   "name": "python",
   "nbconvert_exporter": "python",
   "pygments_lexer": "ipython3",
   "version": "3.12.3"
  }
 },
 "nbformat": 4,
 "nbformat_minor": 2
}
